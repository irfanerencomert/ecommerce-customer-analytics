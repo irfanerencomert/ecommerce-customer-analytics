{
 "cells": [
  {
   "cell_type": "code",
   "id": "cb9ad90f-1376-43eb-9167-e475254c9540",
   "metadata": {},
   "source": [
    "# %% [code]\n",
    "# Müşteri Segmentasyonu\n",
    "import sys\n",
    "sys.path.append(\"..\")\n",
    "from src.models import segment_customers\n",
    "import pandas as pd\n",
    "import plotly.express as px\n",
    "import matplotlib.pyplot as plt\n",
    "\n",
    "# Segmentasyonu yap\n",
    "segmented = segment_customers()\n",
    "\n",
    "# Segment görselleştirme\n",
    "if segmented is not None:\n",
    "    # 3D Scatter plot\n",
    "    fig = px.scatter_3d(\n",
    "        segmented.reset_index(),\n",
    "        x='Recency',\n",
    "        y='Frequency',\n",
    "        z='Monetary',\n",
    "        color='Segment',\n",
    "        title='Customer Segments',\n",
    "        hover_name='CustomerID'\n",
    "    )\n",
    "    fig.write_html('../data/processed/segment_3d.html')\n",
    "    \n",
    "    # Segment dağılımı\n",
    "    plt.figure(figsize=(10, 6))\n",
    "    segmented['Segment'].value_counts().plot.pie(\n",
    "        autopct='%1.1f%%',\n",
    "        startangle=90,\n",
    "        explode=[0.05, 0.05, 0.05, 0.05]\n",
    "    )\n",
    "    plt.title('Customer Segment Distribution')\n",
    "    plt.ylabel('')\n",
    "    plt.savefig('../data/processed/segment_pie.png')"
   ],
   "outputs": [],
   "execution_count": null
  },
  {
   "cell_type": "code",
   "execution_count": null,
   "id": "1ca7d30b-f79c-4ba3-88fe-f850c2a34e28",
   "metadata": {},
   "outputs": [],
   "source": []
  }
 ],
 "metadata": {
  "kernelspec": {
   "display_name": "Python 3 (ipykernel)",
   "language": "python",
   "name": "python3"
  },
  "language_info": {
   "codemirror_mode": {
    "name": "ipython",
    "version": 3
   },
   "file_extension": ".py",
   "mimetype": "text/x-python",
   "name": "python",
   "nbconvert_exporter": "python",
   "pygments_lexer": "ipython3",
   "version": "3.9.21"
  }
 },
 "nbformat": 4,
 "nbformat_minor": 5
}
