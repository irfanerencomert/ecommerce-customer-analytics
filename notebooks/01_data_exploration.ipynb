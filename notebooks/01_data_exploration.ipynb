{
 "cells": [
  {
   "cell_type": "code",
   "id": "35951d3f-02cc-47fc-962f-c3a283bb3d11",
   "metadata": {},
   "source": [
    "# %% [code]\n",
    "# Veri Keşfi ve Temizleme\n",
    "import sys\n",
    "sys.path.append(\"..\")\n",
    "from src.data_preprocessing import load_and_clean_data\n",
    "import pandas as pd\n",
    "import matplotlib.pyplot as plt\n",
    "\n",
    "# Veriyi yükle ve temizle\n",
    "df = load_and_clean_data()\n",
    "\n",
    "# Eksik veri analizi\n",
    "if df is not None:\n",
    "    print(f\"Temizlenmiş veri boyutu: {df.shape}\")\n",
    "    print(\"\\nEksik değerler:\")\n",
    "    print(df.isnull().sum())\n",
    "    \n",
    "    # Dağılım grafikleri\n",
    "    fig, ax = plt.subplots(1, 2, figsize=(12, 5))\n",
    "    df['Quantity'].plot(kind='box', ax=ax[0], title='Quantity Distribution')\n",
    "    df['Price'].plot(kind='box', ax=ax[1], title='Price Distribution')\n",
    "    plt.tight_layout()\n",
    "    plt.savefig('../data/processed/data_distributions.png')"
   ],
   "outputs": [],
   "execution_count": null
  },
  {
   "cell_type": "code",
   "execution_count": null,
   "id": "58e7b9dc-ba28-430a-a19d-0dedd2835bb1",
   "metadata": {},
   "outputs": [],
   "source": []
  }
 ],
 "metadata": {
  "kernelspec": {
   "display_name": "Python 3 (ipykernel)",
   "language": "python",
   "name": "python3"
  },
  "language_info": {
   "codemirror_mode": {
    "name": "ipython",
    "version": 3
   },
   "file_extension": ".py",
   "mimetype": "text/x-python",
   "name": "python",
   "nbconvert_exporter": "python",
   "pygments_lexer": "ipython3",
   "version": "3.9.21"
  }
 },
 "nbformat": 4,
 "nbformat_minor": 5
}
