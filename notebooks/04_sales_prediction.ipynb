{
 "cells": [
  {
   "cell_type": "code",
   "id": "73e9cc6d-986f-4466-909b-05276fb37724",
   "metadata": {},
   "source": [
    "# %% [code]\n",
    "# Satış Tahmini\n",
    "import sys\n",
    "sys.path.append(\"..\")\n",
    "from src.models import train_sales_model\n",
    "import pandas as pd\n",
    "import matplotlib.pyplot as plt\n",
    "import seaborn as sns\n",
    "\n",
    "# Modeli eğit\n",
    "model = train_sales_model()\n",
    "\n",
    "# Özellik önem düzeyleri\n",
    "if model is not None:\n",
    "    feature_importance = pd.DataFrame({\n",
    "        'Feature': ['Quantity', 'Price', 'Hour_sin', 'Hour_cos', 'DayOfWeek_sin', 'DayOfWeek_cos', 'Month_sin', 'Month_cos'],\n",
    "        'Importance': model.feature_importances_\n",
    "    }).sort_values('Importance', ascending=False)\n",
    "    \n",
    "    plt.figure(figsize=(10, 6))\n",
    "    sns.barplot(data=feature_importance, x='Importance', y='Feature')\n",
    "    plt.title('Feature Importance')\n",
    "    plt.tight_layout()\n",
    "    plt.savefig('../data/processed/feature_importance.png')"
   ],
   "outputs": [],
   "execution_count": null
  },
  {
   "cell_type": "code",
   "execution_count": null,
   "id": "86702440-4cfc-418a-8df0-42522b978b27",
   "metadata": {},
   "outputs": [],
   "source": []
  }
 ],
 "metadata": {
  "kernelspec": {
   "display_name": "Python 3 (ipykernel)",
   "language": "python",
   "name": "python3"
  },
  "language_info": {
   "codemirror_mode": {
    "name": "ipython",
    "version": 3
   },
   "file_extension": ".py",
   "mimetype": "text/x-python",
   "name": "python",
   "nbconvert_exporter": "python",
   "pygments_lexer": "ipython3",
   "version": "3.9.21"
  }
 },
 "nbformat": 4,
 "nbformat_minor": 5
}
