{
 "cells": [
  {
   "cell_type": "code",
   "id": "1ad651ae-1426-4c78-b47d-11ed4115b2a0",
   "metadata": {},
   "source": [
    "# %% [code]\n",
    "# Feature Engineering\n",
    "import sys\n",
    "sys.path.append(\"..\")\n",
    "from src.feature_engineering import calculate_rfm\n",
    "import pandas as pd\n",
    "import seaborn as sns\n",
    "import matplotlib.pyplot as plt\n",
    "\n",
    "# RFM hesapla\n",
    "rfm = calculate_rfm()\n",
    "\n",
    "# RFM dağılımları\n",
    "if rfm is not None:\n",
    "    fig, ax = plt.subplots(1, 3, figsize=(18, 5))\n",
    "    sns.histplot(rfm['Recency'], bins=50, ax=ax[0], kde=True)\n",
    "    sns.histplot(rfm['Frequency'], bins=50, ax=ax[1], kde=True)\n",
    "    sns.histplot(rfm['Monetary'], bins=50, ax=ax[2], kde=True)\n",
    "    ax[0].set_title('Recency Distribution')\n",
    "    ax[1].set_title('Frequency Distribution')\n",
    "    ax[2].set_title('Monetary Distribution')\n",
    "    plt.tight_layout()\n",
    "    plt.savefig('../data/processed/rfm_distributions.png')"
   ],
   "outputs": [],
   "execution_count": null
  },
  {
   "cell_type": "code",
   "execution_count": null,
   "id": "6b61a1f0-a8f0-4730-aad2-79ec08ed54af",
   "metadata": {},
   "outputs": [],
   "source": []
  }
 ],
 "metadata": {
  "kernelspec": {
   "display_name": "Python 3 (ipykernel)",
   "language": "python",
   "name": "python3"
  },
  "language_info": {
   "codemirror_mode": {
    "name": "ipython",
    "version": 3
   },
   "file_extension": ".py",
   "mimetype": "text/x-python",
   "name": "python",
   "nbconvert_exporter": "python",
   "pygments_lexer": "ipython3",
   "version": "3.9.21"
  }
 },
 "nbformat": 4,
 "nbformat_minor": 5
}
